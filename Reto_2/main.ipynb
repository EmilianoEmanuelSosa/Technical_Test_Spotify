{
 "cells": [
  {
   "cell_type": "code",
   "execution_count": 44,
   "metadata": {},
   "outputs": [],
   "source": [
    "import pandas as pd \n",
    "import numpy as np"
   ]
  },
  {
   "attachments": {},
   "cell_type": "markdown",
   "metadata": {},
   "source": [
    "> Leer el archivo de texto y seleccionar solo las primeras 4 columnas"
   ]
  },
  {
   "cell_type": "code",
   "execution_count": 45,
   "metadata": {},
   "outputs": [],
   "source": [
    "df_cars = pd.read_csv('prueba_txt.txt', delimiter='\\s+', header=None, encoding='latin1', usecols=[0, 1, 2, 3])"
   ]
  },
  {
   "attachments": {},
   "cell_type": "markdown",
   "metadata": {},
   "source": [
    ">Crear los nombres de las columnas"
   ]
  },
  {
   "cell_type": "code",
   "execution_count": 46,
   "metadata": {},
   "outputs": [],
   "source": [
    "column_names = ['Marca', 'Tipo', 'Ubicacion', 'Placa']"
   ]
  },
  {
   "attachments": {},
   "cell_type": "markdown",
   "metadata": {},
   "source": [
    ">Asignar los nombres de las columnas al DataFrame"
   ]
  },
  {
   "cell_type": "code",
   "execution_count": 47,
   "metadata": {},
   "outputs": [],
   "source": [
    "df_cars.columns = column_names"
   ]
  },
  {
   "attachments": {},
   "cell_type": "markdown",
   "metadata": {},
   "source": [
    ">Imprimir el DataFrame"
   ]
  },
  {
   "cell_type": "code",
   "execution_count": 48,
   "metadata": {},
   "outputs": [
    {
     "data": {
      "text/html": [
       "<div>\n",
       "<style scoped>\n",
       "    .dataframe tbody tr th:only-of-type {\n",
       "        vertical-align: middle;\n",
       "    }\n",
       "\n",
       "    .dataframe tbody tr th {\n",
       "        vertical-align: top;\n",
       "    }\n",
       "\n",
       "    .dataframe thead th {\n",
       "        text-align: right;\n",
       "    }\n",
       "</style>\n",
       "<table border=\"1\" class=\"dataframe\">\n",
       "  <thead>\n",
       "    <tr style=\"text-align: right;\">\n",
       "      <th></th>\n",
       "      <th>Marca</th>\n",
       "      <th>Tipo</th>\n",
       "      <th>Ubicacion</th>\n",
       "      <th>Placa</th>\n",
       "    </tr>\n",
       "  </thead>\n",
       "  <tbody>\n",
       "    <tr>\n",
       "      <th>0</th>\n",
       "      <td>ADRIA</td>\n",
       "      <td>Diesel</td>\n",
       "      <td>Galicia</td>\n",
       "      <td>0001</td>\n",
       "    </tr>\n",
       "    <tr>\n",
       "      <th>1</th>\n",
       "      <td>ALFAROMEO</td>\n",
       "      <td>Diesel</td>\n",
       "      <td>Andalucía</td>\n",
       "      <td>0047</td>\n",
       "    </tr>\n",
       "    <tr>\n",
       "      <th>2</th>\n",
       "      <td>ALFAROMEO</td>\n",
       "      <td>Diesel</td>\n",
       "      <td>Aragón</td>\n",
       "      <td>0041</td>\n",
       "    </tr>\n",
       "    <tr>\n",
       "      <th>3</th>\n",
       "      <td>ALFAROMEO</td>\n",
       "      <td>Diesel</td>\n",
       "      <td>Asturias</td>\n",
       "      <td>(Principado</td>\n",
       "    </tr>\n",
       "    <tr>\n",
       "      <th>4</th>\n",
       "      <td>ALFAROMEO</td>\n",
       "      <td>Diesel</td>\n",
       "      <td>Balears</td>\n",
       "      <td>(Illes)</td>\n",
       "    </tr>\n",
       "    <tr>\n",
       "      <th>...</th>\n",
       "      <td>...</td>\n",
       "      <td>...</td>\n",
       "      <td>...</td>\n",
       "      <td>...</td>\n",
       "    </tr>\n",
       "    <tr>\n",
       "      <th>1652</th>\n",
       "      <td>VOLVO</td>\n",
       "      <td>Gasolina</td>\n",
       "      <td>Galicia</td>\n",
       "      <td>0007</td>\n",
       "    </tr>\n",
       "    <tr>\n",
       "      <th>1653</th>\n",
       "      <td>VOLVO</td>\n",
       "      <td>Gasolina</td>\n",
       "      <td>Madrid</td>\n",
       "      <td>(Comunidad</td>\n",
       "    </tr>\n",
       "    <tr>\n",
       "      <th>1654</th>\n",
       "      <td>VOLVO</td>\n",
       "      <td>Gasolina</td>\n",
       "      <td>Murcia</td>\n",
       "      <td>(Región</td>\n",
       "    </tr>\n",
       "    <tr>\n",
       "      <th>1655</th>\n",
       "      <td>VOLVO</td>\n",
       "      <td>Gasolina</td>\n",
       "      <td>Navarra</td>\n",
       "      <td>(Comunidad</td>\n",
       "    </tr>\n",
       "    <tr>\n",
       "      <th>1656</th>\n",
       "      <td>VOLVO</td>\n",
       "      <td>Gasolina</td>\n",
       "      <td>País</td>\n",
       "      <td>Vasco</td>\n",
       "    </tr>\n",
       "  </tbody>\n",
       "</table>\n",
       "<p>1657 rows × 4 columns</p>\n",
       "</div>"
      ],
      "text/plain": [
       "          Marca      Tipo  Ubicacion        Placa\n",
       "0         ADRIA    Diesel    Galicia         0001\n",
       "1     ALFAROMEO    Diesel  Andalucía         0047\n",
       "2     ALFAROMEO    Diesel     Aragón         0041\n",
       "3     ALFAROMEO    Diesel   Asturias  (Principado\n",
       "4     ALFAROMEO    Diesel    Balears      (Illes)\n",
       "...         ...       ...        ...          ...\n",
       "1652      VOLVO  Gasolina    Galicia         0007\n",
       "1653      VOLVO  Gasolina     Madrid   (Comunidad\n",
       "1654      VOLVO  Gasolina     Murcia      (Región\n",
       "1655      VOLVO  Gasolina    Navarra   (Comunidad\n",
       "1656      VOLVO  Gasolina       País        Vasco\n",
       "\n",
       "[1657 rows x 4 columns]"
      ]
     },
     "execution_count": 48,
     "metadata": {},
     "output_type": "execute_result"
    }
   ],
   "source": [
    "df_cars"
   ]
  },
  {
   "attachments": {},
   "cell_type": "markdown",
   "metadata": {},
   "source": [
    "> Conocer los valores nulos y eliminar esos registros"
   ]
  },
  {
   "cell_type": "code",
   "execution_count": 49,
   "metadata": {},
   "outputs": [
    {
     "data": {
      "text/plain": [
       "(4,)"
      ]
     },
     "execution_count": 49,
     "metadata": {},
     "output_type": "execute_result"
    }
   ],
   "source": [
    "df_cars = df_cars.copy()\n",
    "df_cars.dropna(inplace=True)\n",
    "df_cars.isnull().sum().shape"
   ]
  },
  {
   "attachments": {},
   "cell_type": "markdown",
   "metadata": {},
   "source": [
    "> Eliminar las filas con valores no aceptables"
   ]
  },
  {
   "cell_type": "code",
   "execution_count": 50,
   "metadata": {},
   "outputs": [
    {
     "data": {
      "text/html": [
       "<div>\n",
       "<style scoped>\n",
       "    .dataframe tbody tr th:only-of-type {\n",
       "        vertical-align: middle;\n",
       "    }\n",
       "\n",
       "    .dataframe tbody tr th {\n",
       "        vertical-align: top;\n",
       "    }\n",
       "\n",
       "    .dataframe thead th {\n",
       "        text-align: right;\n",
       "    }\n",
       "</style>\n",
       "<table border=\"1\" class=\"dataframe\">\n",
       "  <thead>\n",
       "    <tr style=\"text-align: right;\">\n",
       "      <th></th>\n",
       "      <th>Marca</th>\n",
       "      <th>Tipo</th>\n",
       "      <th>Ubicacion</th>\n",
       "      <th>Placa</th>\n",
       "    </tr>\n",
       "  </thead>\n",
       "  <tbody>\n",
       "    <tr>\n",
       "      <th>1641</th>\n",
       "      <td>Diesel</td>\n",
       "      <td>Rioja</td>\n",
       "      <td>(La)</td>\n",
       "      <td>0012</td>\n",
       "    </tr>\n",
       "  </tbody>\n",
       "</table>\n",
       "</div>"
      ],
      "text/plain": [
       "       Marca   Tipo Ubicacion Placa\n",
       "1641  Diesel  Rioja      (La)  0012"
      ]
     },
     "execution_count": 50,
     "metadata": {},
     "output_type": "execute_result"
    }
   ],
   "source": [
    "df_filtered = df_cars[(df_cars['Marca'] == 'Gasolina') | (df_cars['Marca'] == 'Diesel') | (df_cars['Marca'] == 'Eléctrico')]\n",
    "df_filtered"
   ]
  },
  {
   "cell_type": "code",
   "execution_count": 51,
   "metadata": {},
   "outputs": [],
   "source": [
    "df_cars = df_cars[~((df_cars['Marca'] == 'Gasolina') | (df_cars['Marca'] == 'Diesel') | (df_cars['Marca'] == 'Eléctrico'))]\n"
   ]
  },
  {
   "cell_type": "code",
   "execution_count": 53,
   "metadata": {},
   "outputs": [
    {
     "data": {
      "text/plain": [
       "array(['0001', '0047', '0041', '(Principado', '(Illes)', '0019', 'y',\n",
       "       'Mancha', '0112', 'Valenciana', '0005', '0023', '(Comunidad',\n",
       "       '(Región', 'Vasco', '0014', '0025', '0011', '0004', '1235', '0186',\n",
       "       '0057', '0117', '1774', '0012', '0158', '0567', '0006', '(La)',\n",
       "       '0002', 'de', '0217', '0037', '0155', '0036', '0589', '0431',\n",
       "       '0026', '0118', '0015', '1199', '0172', '0201', '0103', '1328',\n",
       "       '0135', '0088', '0045', '0008', '0153', '0040', '0013', '0003',\n",
       "       'Castilla', 'Asturias', '0007', '2064', '0229', '0052', '0129',\n",
       "       '1570', '0024', '0257', '0635', '0748', '0141', '0399', '0069',\n",
       "       '0943', '0018', '0171', '0010', '1396', '0165', '0355', '0070',\n",
       "       '0843', '0209', '0303', '0586', '0096', '0634', '0039', '0775',\n",
       "       '0160', '0009', '0053', '0046', '0380', '0226', '0022', '1020',\n",
       "       '0098', 'Comprimido', '0606', '0054', '0411', '0031', '0706',\n",
       "       '0109', '0883', '0188', '0120', '0050', '1300', '0128', '0285',\n",
       "       '0691', '0119', '0419', '0063', '1179', '0073', '0190', 'Balears',\n",
       "       '0334', '0515', '0056', '0021', '0082', '0139', '0033', 'Ceuta',\n",
       "       '0736', '0124', '0034', '0662', '0116', '0179', '0621', '0090',\n",
       "       '0488', '0849', '0016', '0066', 'de)', 'León', '0017', 'Foral',\n",
       "       '0084', '0080', '0259', '0999', '0164', '0121', '0919', '0400',\n",
       "       '0624', '0192', '0410', '0060', '0204', '0099', '0108', '0114',\n",
       "       '0020', '0298', '0232', '0038', '0482', '0168', '0227', '0102',\n",
       "       '0170', '0536', '0138', '1952', '0307', '0235', '0142', '1860',\n",
       "       '0032', '0150', '0709', '0065', '0028', '0095', '0191', '0159',\n",
       "       '0309', '0044', '0061', '0185', '0237', '0042', '0148', '0123',\n",
       "       '0075', '0115', '1029', '0184', '0055', '1433', '0131', '0576',\n",
       "       '0566', '0051', '0915', '0122', '1136', '0405', '0189', '0089',\n",
       "       '1015', '0216', 'Licuado', '0907', '0287', '0848', '0086', '1157',\n",
       "       '0078', '0243', '1974', '0382', '0147', '1983', '0208', '0808',\n",
       "       '0898', '0375', '1484', '0275', '0043', '1316', '0163', '1290',\n",
       "       '0152', '0447', '0628', '0136', '0517', '0071', '1198', '0064',\n",
       "       '0219', '0827', '0062', '1550', '0306', '0807', '0892', '1480',\n",
       "       '0251', 'Melilla', '0365', '0435', '0068', '0247', '0265', '0081',\n",
       "       '0076', '0241', '0244', '0156', '0657', '0463', '0169', '1161',\n",
       "       '0200', '0390', '0104', '1963', '0384', '0260', '0166', '2166',\n",
       "       '0224', '0651', '0030', '0760', '1019', '1168', '0223',\n",
       "       'Andalucía', '0289', '0340', '0049'], dtype=object)"
      ]
     },
     "execution_count": 53,
     "metadata": {},
     "output_type": "execute_result"
    }
   ],
   "source": [
    "df_cars['Placa'].unique()"
   ]
  },
  {
   "attachments": {},
   "cell_type": "markdown",
   "metadata": {},
   "source": [
    "> Reemplazar los valores que no tienen sentido por NaN"
   ]
  },
  {
   "cell_type": "code",
   "execution_count": 54,
   "metadata": {},
   "outputs": [],
   "source": [
    "df_cars['Placa'].replace(['(Principado', '(Illes)', '(Comunidad', '(Región', 'de)', 'Comprimido', 'Balears', 'Ceuta', 'Foral', 'León', 'Licuado', 'Melilla', 'Andalucía'], np.nan, inplace=True)\n"
   ]
  },
  {
   "attachments": {},
   "cell_type": "markdown",
   "metadata": {},
   "source": [
    "> Eliminar las filas con valores NaN en la columna 'Placa'"
   ]
  },
  {
   "cell_type": "code",
   "execution_count": 55,
   "metadata": {},
   "outputs": [],
   "source": [
    "df_cars.dropna(subset=['Placa'], inplace=True)\n"
   ]
  },
  {
   "attachments": {},
   "cell_type": "markdown",
   "metadata": {},
   "source": [
    "> Eliminar caracteres no numéricos y espacios en blanco de la columna 'Placa'"
   ]
  },
  {
   "cell_type": "code",
   "execution_count": 56,
   "metadata": {},
   "outputs": [],
   "source": [
    "df_cars['Placa'] = df_cars['Placa'].str.replace(r'\\D', '', regex=True)"
   ]
  },
  {
   "attachments": {},
   "cell_type": "markdown",
   "metadata": {},
   "source": [
    "> Verificar los resultados"
   ]
  },
  {
   "cell_type": "code",
   "execution_count": 57,
   "metadata": {},
   "outputs": [
    {
     "name": "stdout",
     "output_type": "stream",
     "text": [
      "['0001' '0047' '0041' '0019' '' '0112' '0005' '0023' '0014' '0025' '0011'\n",
      " '0004' '1235' '0186' '0057' '0117' '1774' '0012' '0158' '0567' '0006'\n",
      " '0002' '0217' '0037' '0155' '0036' '0589' '0431' '0026' '0118' '0015'\n",
      " '1199' '0172' '0201' '0103' '1328' '0135' '0088' '0045' '0008' '0153'\n",
      " '0040' '0013' '0003' '0007' '2064' '0229' '0052' '0129' '1570' '0024'\n",
      " '0257' '0635' '0748' '0141' '0399' '0069' '0943' '0018' '0171' '0010'\n",
      " '1396' '0165' '0355' '0070' '0843' '0209' '0303' '0586' '0096' '0634'\n",
      " '0039' '0775' '0160' '0009' '0053' '0046' '0380' '0226' '0022' '1020'\n",
      " '0098' '0606' '0054' '0411' '0031' '0706' '0109' '0883' '0188' '0120'\n",
      " '0050' '1300' '0128' '0285' '0691' '0119' '0419' '0063' '1179' '0073'\n",
      " '0190' '0334' '0515' '0056' '0021' '0082' '0139' '0033' '0736' '0124'\n",
      " '0034' '0662' '0116' '0179' '0621' '0090' '0488' '0849' '0016' '0066'\n",
      " '0017' '0084' '0080' '0259' '0999' '0164' '0121' '0919' '0400' '0624'\n",
      " '0192' '0410' '0060' '0204' '0099' '0108' '0114' '0020' '0298' '0232'\n",
      " '0038' '0482' '0168' '0227' '0102' '0170' '0536' '0138' '1952' '0307'\n",
      " '0235' '0142' '1860' '0032' '0150' '0709' '0065' '0028' '0095' '0191'\n",
      " '0159' '0309' '0044' '0061' '0185' '0237' '0042' '0148' '0123' '0075'\n",
      " '0115' '1029' '0184' '0055' '1433' '0131' '0576' '0566' '0051' '0915'\n",
      " '0122' '1136' '0405' '0189' '0089' '1015' '0216' '0907' '0287' '0848'\n",
      " '0086' '1157' '0078' '0243' '1974' '0382' '0147' '1983' '0208' '0808'\n",
      " '0898' '0375' '1484' '0275' '0043' '1316' '0163' '1290' '0152' '0447'\n",
      " '0628' '0136' '0517' '0071' '1198' '0064' '0219' '0827' '0062' '1550'\n",
      " '0306' '0807' '0892' '1480' '0251' '0365' '0435' '0068' '0247' '0265'\n",
      " '0081' '0076' '0241' '0244' '0156' '0657' '0463' '0169' '1161' '0200'\n",
      " '0390' '0104' '1963' '0384' '0260' '0166' '2166' '0224' '0651' '0030'\n",
      " '0760' '1019' '1168' '0223' '0289' '0340' '0049']\n"
     ]
    }
   ],
   "source": [
    "print(df_cars['Placa'].unique())"
   ]
  },
  {
   "attachments": {},
   "cell_type": "markdown",
   "metadata": {},
   "source": [
    " > Eliminar espacios en blanco de las columnas de tipo str"
   ]
  },
  {
   "cell_type": "code",
   "execution_count": 58,
   "metadata": {},
   "outputs": [],
   "source": [
    "df_cars = df_cars.apply(lambda x: x.str.strip() if x.dtype == \"object\" else x)\n"
   ]
  },
  {
   "attachments": {},
   "cell_type": "markdown",
   "metadata": {},
   "source": [
    "> Verificar los resultados"
   ]
  },
  {
   "cell_type": "code",
   "execution_count": 59,
   "metadata": {},
   "outputs": [
    {
     "data": {
      "text/html": [
       "<div>\n",
       "<style scoped>\n",
       "    .dataframe tbody tr th:only-of-type {\n",
       "        vertical-align: middle;\n",
       "    }\n",
       "\n",
       "    .dataframe tbody tr th {\n",
       "        vertical-align: top;\n",
       "    }\n",
       "\n",
       "    .dataframe thead th {\n",
       "        text-align: right;\n",
       "    }\n",
       "</style>\n",
       "<table border=\"1\" class=\"dataframe\">\n",
       "  <thead>\n",
       "    <tr style=\"text-align: right;\">\n",
       "      <th></th>\n",
       "      <th>Marca</th>\n",
       "      <th>Tipo</th>\n",
       "      <th>Ubicacion</th>\n",
       "      <th>Placa</th>\n",
       "    </tr>\n",
       "  </thead>\n",
       "  <tbody>\n",
       "    <tr>\n",
       "      <th>0</th>\n",
       "      <td>ADRIA</td>\n",
       "      <td>Diesel</td>\n",
       "      <td>Galicia</td>\n",
       "      <td>0001</td>\n",
       "    </tr>\n",
       "    <tr>\n",
       "      <th>1</th>\n",
       "      <td>ALFAROMEO</td>\n",
       "      <td>Diesel</td>\n",
       "      <td>Andalucía</td>\n",
       "      <td>0047</td>\n",
       "    </tr>\n",
       "    <tr>\n",
       "      <th>2</th>\n",
       "      <td>ALFAROMEO</td>\n",
       "      <td>Diesel</td>\n",
       "      <td>Aragón</td>\n",
       "      <td>0041</td>\n",
       "    </tr>\n",
       "    <tr>\n",
       "      <th>5</th>\n",
       "      <td>ALFAROMEO</td>\n",
       "      <td>Diesel</td>\n",
       "      <td>Canarias</td>\n",
       "      <td>0019</td>\n",
       "    </tr>\n",
       "    <tr>\n",
       "      <th>6</th>\n",
       "      <td>ALFAROMEO</td>\n",
       "      <td>Diesel</td>\n",
       "      <td>Castilla</td>\n",
       "      <td></td>\n",
       "    </tr>\n",
       "  </tbody>\n",
       "</table>\n",
       "</div>"
      ],
      "text/plain": [
       "       Marca    Tipo  Ubicacion Placa\n",
       "0      ADRIA  Diesel    Galicia  0001\n",
       "1  ALFAROMEO  Diesel  Andalucía  0047\n",
       "2  ALFAROMEO  Diesel     Aragón  0041\n",
       "5  ALFAROMEO  Diesel   Canarias  0019\n",
       "6  ALFAROMEO  Diesel   Castilla      "
      ]
     },
     "execution_count": 59,
     "metadata": {},
     "output_type": "execute_result"
    }
   ],
   "source": [
    "df_cars.head()"
   ]
  },
  {
   "attachments": {},
   "cell_type": "markdown",
   "metadata": {},
   "source": [
    "> Crear Columna Fecha"
   ]
  },
  {
   "cell_type": "code",
   "execution_count": 60,
   "metadata": {},
   "outputs": [],
   "source": [
    "df_cars['Fecha']='06-07-2019'\n",
    "df_cars['Fecha']=pd.to_datetime(df_cars['Fecha'])\n"
   ]
  },
  {
   "attachments": {},
   "cell_type": "markdown",
   "metadata": {},
   "source": [
    "> Crear el la columna IdTransaccion"
   ]
  },
  {
   "cell_type": "code",
   "execution_count": 61,
   "metadata": {},
   "outputs": [],
   "source": [
    "df_cars.insert(0, 'IdTransaccion', range(1, len(df_cars) + 1))"
   ]
  },
  {
   "cell_type": "code",
   "execution_count": 62,
   "metadata": {},
   "outputs": [
    {
     "data": {
      "text/html": [
       "<div>\n",
       "<style scoped>\n",
       "    .dataframe tbody tr th:only-of-type {\n",
       "        vertical-align: middle;\n",
       "    }\n",
       "\n",
       "    .dataframe tbody tr th {\n",
       "        vertical-align: top;\n",
       "    }\n",
       "\n",
       "    .dataframe thead th {\n",
       "        text-align: right;\n",
       "    }\n",
       "</style>\n",
       "<table border=\"1\" class=\"dataframe\">\n",
       "  <thead>\n",
       "    <tr style=\"text-align: right;\">\n",
       "      <th></th>\n",
       "      <th>IdTransaccion</th>\n",
       "      <th>Marca</th>\n",
       "      <th>Tipo</th>\n",
       "      <th>Ubicacion</th>\n",
       "      <th>Placa</th>\n",
       "      <th>Fecha</th>\n",
       "    </tr>\n",
       "  </thead>\n",
       "  <tbody>\n",
       "    <tr>\n",
       "      <th>0</th>\n",
       "      <td>1</td>\n",
       "      <td>ADRIA</td>\n",
       "      <td>Diesel</td>\n",
       "      <td>Galicia</td>\n",
       "      <td>0001</td>\n",
       "      <td>2019-06-07</td>\n",
       "    </tr>\n",
       "    <tr>\n",
       "      <th>1</th>\n",
       "      <td>2</td>\n",
       "      <td>ALFAROMEO</td>\n",
       "      <td>Diesel</td>\n",
       "      <td>Andalucía</td>\n",
       "      <td>0047</td>\n",
       "      <td>2019-06-07</td>\n",
       "    </tr>\n",
       "    <tr>\n",
       "      <th>2</th>\n",
       "      <td>3</td>\n",
       "      <td>ALFAROMEO</td>\n",
       "      <td>Diesel</td>\n",
       "      <td>Aragón</td>\n",
       "      <td>0041</td>\n",
       "      <td>2019-06-07</td>\n",
       "    </tr>\n",
       "    <tr>\n",
       "      <th>5</th>\n",
       "      <td>4</td>\n",
       "      <td>ALFAROMEO</td>\n",
       "      <td>Diesel</td>\n",
       "      <td>Canarias</td>\n",
       "      <td>0019</td>\n",
       "      <td>2019-06-07</td>\n",
       "    </tr>\n",
       "    <tr>\n",
       "      <th>6</th>\n",
       "      <td>5</td>\n",
       "      <td>ALFAROMEO</td>\n",
       "      <td>Diesel</td>\n",
       "      <td>Castilla</td>\n",
       "      <td></td>\n",
       "      <td>2019-06-07</td>\n",
       "    </tr>\n",
       "    <tr>\n",
       "      <th>...</th>\n",
       "      <td>...</td>\n",
       "      <td>...</td>\n",
       "      <td>...</td>\n",
       "      <td>...</td>\n",
       "      <td>...</td>\n",
       "      <td>...</td>\n",
       "    </tr>\n",
       "    <tr>\n",
       "      <th>1649</th>\n",
       "      <td>1170</td>\n",
       "      <td>VOLVO</td>\n",
       "      <td>Gasolina</td>\n",
       "      <td>Castilla-La</td>\n",
       "      <td></td>\n",
       "      <td>2019-06-07</td>\n",
       "    </tr>\n",
       "    <tr>\n",
       "      <th>1650</th>\n",
       "      <td>1171</td>\n",
       "      <td>VOLVO</td>\n",
       "      <td>Gasolina</td>\n",
       "      <td>Cataluña</td>\n",
       "      <td>0016</td>\n",
       "      <td>2019-06-07</td>\n",
       "    </tr>\n",
       "    <tr>\n",
       "      <th>1651</th>\n",
       "      <td>1172</td>\n",
       "      <td>VOLVO</td>\n",
       "      <td>Gasolina</td>\n",
       "      <td>Comunitat</td>\n",
       "      <td></td>\n",
       "      <td>2019-06-07</td>\n",
       "    </tr>\n",
       "    <tr>\n",
       "      <th>1652</th>\n",
       "      <td>1173</td>\n",
       "      <td>VOLVO</td>\n",
       "      <td>Gasolina</td>\n",
       "      <td>Galicia</td>\n",
       "      <td>0007</td>\n",
       "      <td>2019-06-07</td>\n",
       "    </tr>\n",
       "    <tr>\n",
       "      <th>1656</th>\n",
       "      <td>1174</td>\n",
       "      <td>VOLVO</td>\n",
       "      <td>Gasolina</td>\n",
       "      <td>País</td>\n",
       "      <td></td>\n",
       "      <td>2019-06-07</td>\n",
       "    </tr>\n",
       "  </tbody>\n",
       "</table>\n",
       "<p>1174 rows × 6 columns</p>\n",
       "</div>"
      ],
      "text/plain": [
       "      IdTransaccion      Marca      Tipo    Ubicacion Placa      Fecha\n",
       "0                 1      ADRIA    Diesel      Galicia  0001 2019-06-07\n",
       "1                 2  ALFAROMEO    Diesel    Andalucía  0047 2019-06-07\n",
       "2                 3  ALFAROMEO    Diesel       Aragón  0041 2019-06-07\n",
       "5                 4  ALFAROMEO    Diesel     Canarias  0019 2019-06-07\n",
       "6                 5  ALFAROMEO    Diesel     Castilla       2019-06-07\n",
       "...             ...        ...       ...          ...   ...        ...\n",
       "1649           1170      VOLVO  Gasolina  Castilla-La       2019-06-07\n",
       "1650           1171      VOLVO  Gasolina     Cataluña  0016 2019-06-07\n",
       "1651           1172      VOLVO  Gasolina    Comunitat       2019-06-07\n",
       "1652           1173      VOLVO  Gasolina      Galicia  0007 2019-06-07\n",
       "1656           1174      VOLVO  Gasolina         País       2019-06-07\n",
       "\n",
       "[1174 rows x 6 columns]"
      ]
     },
     "execution_count": 62,
     "metadata": {},
     "output_type": "execute_result"
    }
   ],
   "source": [
    "df_cars"
   ]
  },
  {
   "attachments": {},
   "cell_type": "markdown",
   "metadata": {},
   "source": [
    "> Imputamos por Sin especificar"
   ]
  },
  {
   "cell_type": "code",
   "execution_count": 63,
   "metadata": {},
   "outputs": [],
   "source": [
    "df_cars.replace('','Sin especificar', inplace=True)\n"
   ]
  },
  {
   "attachments": {},
   "cell_type": "markdown",
   "metadata": {},
   "source": [
    ">Exportamos a Csv"
   ]
  },
  {
   "cell_type": "code",
   "execution_count": 64,
   "metadata": {},
   "outputs": [],
   "source": [
    "df_cars.to_csv('transactions_details.csv', sep=',', index=False)\n"
   ]
  }
 ],
 "metadata": {
  "kernelspec": {
   "display_name": "Python 3",
   "language": "python",
   "name": "python3"
  },
  "language_info": {
   "codemirror_mode": {
    "name": "ipython",
    "version": 3
   },
   "file_extension": ".py",
   "mimetype": "text/x-python",
   "name": "python",
   "nbconvert_exporter": "python",
   "pygments_lexer": "ipython3",
   "version": "3.11.3"
  },
  "orig_nbformat": 4
 },
 "nbformat": 4,
 "nbformat_minor": 2
}
