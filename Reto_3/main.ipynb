{
 "cells": [
  {
   "attachments": {},
   "cell_type": "markdown",
   "metadata": {},
   "source": [
    "> Luego de Transformaciones.."
   ]
  },
  {
   "cell_type": "code",
   "execution_count": 14,
   "metadata": {},
   "outputs": [],
   "source": [
    "import pandas as pd"
   ]
  },
  {
   "cell_type": "code",
   "execution_count": 15,
   "metadata": {},
   "outputs": [],
   "source": [
    "df_consumo = pd.read_csv('consumo_prueba.csv', header=0,skip_blank_lines=True)\n",
    "new_column_order = ['Factura', 'Tiquete', 'Fecha', 'Hora', 'Vehículo', 'Manifiesto', 'Km', 'Artículo', 'Cant.', 'Precio', 'Total Venta']\n",
    "# Reordena las columnas del DataFrame usando el orden deseado\n",
    "df_consumo = df_consumo.reindex(columns=new_column_order)"
   ]
  },
  {
   "cell_type": "code",
   "execution_count": 18,
   "metadata": {},
   "outputs": [],
   "source": [
    "df_consumo.to_csv('Consumo_final.csv',index=False)"
   ]
  }
 ],
 "metadata": {
  "kernelspec": {
   "display_name": "Python 3",
   "language": "python",
   "name": "python3"
  },
  "language_info": {
   "codemirror_mode": {
    "name": "ipython",
    "version": 3
   },
   "file_extension": ".py",
   "mimetype": "text/x-python",
   "name": "python",
   "nbconvert_exporter": "python",
   "pygments_lexer": "ipython3",
   "version": "3.11.3"
  },
  "orig_nbformat": 4
 },
 "nbformat": 4,
 "nbformat_minor": 2
}
