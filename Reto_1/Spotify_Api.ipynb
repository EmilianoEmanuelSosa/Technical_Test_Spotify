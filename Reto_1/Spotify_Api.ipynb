{
 "cells": [
  {
   "cell_type": "code",
   "execution_count": 6,
   "metadata": {},
   "outputs": [],
   "source": [
    "import spotipy\n",
    "from spotipy.oauth2 import SpotifyOAuth\n",
    "import csv\n",
    "import pandas as pd\n",
    "from dotenv import load_dotenv\n",
    "import os"
   ]
  },
  {
   "cell_type": "code",
   "execution_count": 7,
   "metadata": {},
   "outputs": [
    {
     "data": {
      "text/plain": [
       "True"
      ]
     },
     "execution_count": 7,
     "metadata": {},
     "output_type": "execute_result"
    }
   ],
   "source": [
    "load_dotenv('cdt.env')"
   ]
  },
  {
   "attachments": {},
   "cell_type": "markdown",
   "metadata": {},
   "source": [
    ">\"Environment variables\""
   ]
  },
  {
   "cell_type": "code",
   "execution_count": 8,
   "metadata": {},
   "outputs": [],
   "source": [
    "client_id = os.getenv('SPOTIFY_CLIENT_ID')\n",
    "client_secret = os.getenv('SPOTIFY_CLIENT_SECRET')\n",
    "redirect_uri = os.getenv('redirect_uri')\n",
    "scope = 'user-top-read'"
   ]
  },
  {
   "attachments": {},
   "cell_type": "markdown",
   "metadata": {},
   "source": [
    ">Authenticates and creates a Spotipy instance to interact with the Spotify API."
   ]
  },
  {
   "cell_type": "code",
   "execution_count": 9,
   "metadata": {},
   "outputs": [],
   "source": [
    "sp = spotipy.Spotify(auth_manager=SpotifyOAuth(client_id=client_id, client_secret=client_secret, redirect_uri=redirect_uri, scope=scope))"
   ]
  },
  {
   "attachments": {},
   "cell_type": "markdown",
   "metadata": {},
   "source": [
    ">Get the playlist ID for the desired country"
   ]
  },
  {
   "cell_type": "code",
   "execution_count": 10,
   "metadata": {},
   "outputs": [],
   "source": [
    "country_code = 'CO'\n",
    "playlists = sp.featured_playlists(country=country_code, limit=1)\n",
    "playlist_id = playlists['playlists']['items'][0]['id']"
   ]
  },
  {
   "attachments": {},
   "cell_type": "markdown",
   "metadata": {},
   "source": [
    ">Get the tracks from the playlist"
   ]
  },
  {
   "cell_type": "code",
   "execution_count": 11,
   "metadata": {},
   "outputs": [],
   "source": [
    "playlist_tracks = sp.playlist_tracks(playlist_id, limit=50)['items']"
   ]
  },
  {
   "attachments": {},
   "cell_type": "markdown",
   "metadata": {},
   "source": [
    ">Create a dictionary to store the songs by genre"
   ]
  },
  {
   "cell_type": "code",
   "execution_count": 12,
   "metadata": {},
   "outputs": [],
   "source": [
    "songs_by_genre = {}"
   ]
  },
  {
   "attachments": {},
   "cell_type": "markdown",
   "metadata": {},
   "source": [
    ">Iterate over the tracks and assign them to the corresponding genre"
   ]
  },
  {
   "cell_type": "code",
   "execution_count": 13,
   "metadata": {},
   "outputs": [],
   "source": [
    "for track in playlist_tracks:\n",
    "    track_info = track['track']\n",
    "    artist_info = sp.artist(track_info['artists'][0]['id'])\n",
    "    genres = artist_info['genres']\n",
    "\n",
    "    for genre in genres:\n",
    "        if genre not in songs_by_genre:\n",
    "            songs_by_genre[genre] = []\n",
    "        songs_by_genre[genre].append(track_info)\n"
   ]
  },
  {
   "attachments": {},
   "cell_type": "markdown",
   "metadata": {},
   "source": [
    "> Create the 'Top_Songs_Colombia' folder if it doesn't exist"
   ]
  },
  {
   "cell_type": "code",
   "execution_count": 14,
   "metadata": {},
   "outputs": [],
   "source": [
    "\n",
    "output_folder = 'Top_Songs_Colombia'\n",
    "if not os.path.exists(output_folder):\n",
    "    os.makedirs(output_folder)"
   ]
  },
  {
   "attachments": {},
   "cell_type": "markdown",
   "metadata": {},
   "source": [
    ">Sort the genres by the number of songs in descending order"
   ]
  },
  {
   "cell_type": "code",
   "execution_count": 15,
   "metadata": {},
   "outputs": [],
   "source": [
    "sorted_genres = sorted(songs_by_genre.keys(), key=lambda x: len(songs_by_genre[x]), reverse=True)"
   ]
  },
  {
   "attachments": {},
   "cell_type": "markdown",
   "metadata": {},
   "source": [
    ">Save each genre to a separate CSV file with position number"
   ]
  },
  {
   "cell_type": "code",
   "execution_count": 16,
   "metadata": {},
   "outputs": [
    {
     "name": "stdout",
     "output_type": "stream",
     "text": [
      "Archivo 1_colombian pop.csv guardado exitosamente.\n",
      "Archivo 2_latin pop.csv guardado exitosamente.\n",
      "Archivo 3_reggaeton colombiano.csv guardado exitosamente.\n",
      "Archivo 4_reggaeton.csv guardado exitosamente.\n",
      "Archivo 5_urbano latino.csv guardado exitosamente.\n",
      "Archivo 6_latin christian.csv guardado exitosamente.\n",
      "Archivo 7_mariachi cristiano.csv guardado exitosamente.\n",
      "Archivo 8_reggaeton cristiano.csv guardado exitosamente.\n",
      "Archivo 9_latin rock.csv guardado exitosamente.\n",
      "Archivo 10_latin alternative.csv guardado exitosamente.\n",
      "Archivo 11_r&b en espanol.csv guardado exitosamente.\n",
      "Archivo 12_electro latino.csv guardado exitosamente.\n",
      "Archivo 13_trap latino.csv guardado exitosamente.\n",
      "Archivo 14_colombian rock.csv guardado exitosamente.\n",
      "Archivo 15_cumbia.csv guardado exitosamente.\n",
      "Archivo 16_pop electronico.csv guardado exitosamente.\n",
      "Archivo 17_tropical alternativo.csv guardado exitosamente.\n",
      "Archivo 18_pop reggaeton.csv guardado exitosamente.\n",
      "Archivo 19_dance pop.csv guardado exitosamente.\n",
      "Archivo 20_pop.csv guardado exitosamente.\n",
      "Archivo 21_vallenato.csv guardado exitosamente.\n",
      "Archivo 22_rock en espanol.csv guardado exitosamente.\n"
     ]
    }
   ],
   "source": [
    "for i, genre in enumerate(sorted_genres, 1):\n",
    "    songs = sorted(songs_by_genre[genre], key=lambda x: x['popularity'], reverse=True) \n",
    "    filename = f\"{i}_{genre}.csv\"\n",
    "    filepath = os.path.join(output_folder, filename)\n",
    "\n",
    "    with open(filepath, 'w', newline='', encoding='utf-8') as file:\n",
    "        writer = csv.writer(file)\n",
    "        writer.writerow(['Position', 'Track', 'Artists'])\n",
    "        for j, song in enumerate(songs, 1):\n",
    "            track_name = song['name']\n",
    "            artists = ', '.join([artist['name'] for artist in song['artists']])\n",
    "            writer.writerow([j, track_name, artists])\n",
    "\n",
    "    print(f\"Archivo {filename} guardado exitosamente.\")"
   ]
  }
 ],
 "metadata": {
  "kernelspec": {
   "display_name": "Python 3",
   "language": "python",
   "name": "python3"
  },
  "language_info": {
   "codemirror_mode": {
    "name": "ipython",
    "version": 3
   },
   "file_extension": ".py",
   "mimetype": "text/x-python",
   "name": "python",
   "nbconvert_exporter": "python",
   "pygments_lexer": "ipython3",
   "version": "3.11.3"
  },
  "orig_nbformat": 4
 },
 "nbformat": 4,
 "nbformat_minor": 2
}
